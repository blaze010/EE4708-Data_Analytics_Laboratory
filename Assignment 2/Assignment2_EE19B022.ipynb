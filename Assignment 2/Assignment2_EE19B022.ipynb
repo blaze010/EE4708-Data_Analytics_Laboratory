{
 "cells": [
  {
   "cell_type": "markdown",
   "id": "7b38e7fc",
   "metadata": {},
   "source": [
    "# <center> EE4708: Assignment No: 2 </center> #\n",
    "## <center> Logistic Regression </center> ##\n",
    "###  <center> Gautham Govind A, EE19B022</center> ###"
   ]
  },
  {
   "cell_type": "markdown",
   "id": "026c76ad",
   "metadata": {},
   "source": [
    "### Importing the necessary packages"
   ]
  },
  {
   "cell_type": "code",
   "execution_count": 61,
   "id": "37a74e56",
   "metadata": {},
   "outputs": [],
   "source": [
    "import numpy as np\n",
    "import pandas as pd\n",
    "\n",
    "from sklearn.impute import SimpleImputer\n",
    "from sklearn.linear_model import LogisticRegressionCV\n",
    "from sklearn.preprocessing import LabelBinarizer \n",
    "\n",
    "\n",
    "from sklearn.metrics import accuracy_score, f1_score\n",
    "from sklearn.metrics import confusion_matrix, precision_score, recall_score\n",
    "from sklearn.metrics import roc_auc_score, roc_curve, precision_recall_curve\n",
    "\n",
    "import matplotlib.pyplot as plt\n",
    "import seaborn as sns"
   ]
  },
  {
   "cell_type": "code",
   "execution_count": 2,
   "id": "250d95dd",
   "metadata": {},
   "outputs": [],
   "source": [
    "plt.rcParams.update({'font.size': 13})"
   ]
  },
  {
   "cell_type": "markdown",
   "id": "41e32bdf",
   "metadata": {},
   "source": [
    "### Loading in the data"
   ]
  },
  {
   "cell_type": "markdown",
   "id": "a3c424e9",
   "metadata": {},
   "source": [
    "Since we already have a unique ID for each passenger, we shall use this ID for indexing; adding a separate index column is not necessary. Hence, we set the 'PassengerId' column as the index column."
   ]
  },
  {
   "cell_type": "code",
   "execution_count": 3,
   "id": "3128d2e8",
   "metadata": {},
   "outputs": [],
   "source": [
    "df_train = pd.read_excel(\"train.xlsx\", index_col='PassengerId')\n",
    "df_test = pd.read_excel(\"test.xlsx\", index_col='PassengerId')"
   ]
  },
  {
   "cell_type": "markdown",
   "id": "2877a471",
   "metadata": {},
   "source": [
    "We take a quick look at the loaded training set. We shall keep the test set untouched and use it only at the very end for evaluation purposes."
   ]
  },
  {
   "cell_type": "code",
   "execution_count": 4,
   "id": "536f19b0",
   "metadata": {},
   "outputs": [
    {
     "data": {
      "text/html": [
       "<div>\n",
       "<style scoped>\n",
       "    .dataframe tbody tr th:only-of-type {\n",
       "        vertical-align: middle;\n",
       "    }\n",
       "\n",
       "    .dataframe tbody tr th {\n",
       "        vertical-align: top;\n",
       "    }\n",
       "\n",
       "    .dataframe thead th {\n",
       "        text-align: right;\n",
       "    }\n",
       "</style>\n",
       "<table border=\"1\" class=\"dataframe\">\n",
       "  <thead>\n",
       "    <tr style=\"text-align: right;\">\n",
       "      <th></th>\n",
       "      <th>Survived</th>\n",
       "      <th>Pclass</th>\n",
       "      <th>Name</th>\n",
       "      <th>Sex</th>\n",
       "      <th>Age</th>\n",
       "      <th>SibSp</th>\n",
       "      <th>Parch</th>\n",
       "      <th>Ticket</th>\n",
       "      <th>Fare</th>\n",
       "      <th>Cabin</th>\n",
       "      <th>Embarked</th>\n",
       "    </tr>\n",
       "    <tr>\n",
       "      <th>PassengerId</th>\n",
       "      <th></th>\n",
       "      <th></th>\n",
       "      <th></th>\n",
       "      <th></th>\n",
       "      <th></th>\n",
       "      <th></th>\n",
       "      <th></th>\n",
       "      <th></th>\n",
       "      <th></th>\n",
       "      <th></th>\n",
       "      <th></th>\n",
       "    </tr>\n",
       "  </thead>\n",
       "  <tbody>\n",
       "    <tr>\n",
       "      <th>1</th>\n",
       "      <td>0</td>\n",
       "      <td>3</td>\n",
       "      <td>Braund, Mr. Owen Harris</td>\n",
       "      <td>male</td>\n",
       "      <td>22.0</td>\n",
       "      <td>1</td>\n",
       "      <td>0</td>\n",
       "      <td>A/5 21171</td>\n",
       "      <td>7.2500</td>\n",
       "      <td>NaN</td>\n",
       "      <td>S</td>\n",
       "    </tr>\n",
       "    <tr>\n",
       "      <th>2</th>\n",
       "      <td>1</td>\n",
       "      <td>1</td>\n",
       "      <td>Cumings, Mrs. John Bradley (Florence Briggs Th...</td>\n",
       "      <td>female</td>\n",
       "      <td>38.0</td>\n",
       "      <td>1</td>\n",
       "      <td>0</td>\n",
       "      <td>PC 17599</td>\n",
       "      <td>71.2833</td>\n",
       "      <td>C85</td>\n",
       "      <td>C</td>\n",
       "    </tr>\n",
       "    <tr>\n",
       "      <th>3</th>\n",
       "      <td>1</td>\n",
       "      <td>3</td>\n",
       "      <td>Heikkinen, Miss. Laina</td>\n",
       "      <td>female</td>\n",
       "      <td>26.0</td>\n",
       "      <td>0</td>\n",
       "      <td>0</td>\n",
       "      <td>STON/O2. 3101282</td>\n",
       "      <td>7.9250</td>\n",
       "      <td>NaN</td>\n",
       "      <td>S</td>\n",
       "    </tr>\n",
       "    <tr>\n",
       "      <th>4</th>\n",
       "      <td>1</td>\n",
       "      <td>1</td>\n",
       "      <td>Futrelle, Mrs. Jacques Heath (Lily May Peel)</td>\n",
       "      <td>female</td>\n",
       "      <td>35.0</td>\n",
       "      <td>1</td>\n",
       "      <td>0</td>\n",
       "      <td>113803</td>\n",
       "      <td>53.1000</td>\n",
       "      <td>C123</td>\n",
       "      <td>S</td>\n",
       "    </tr>\n",
       "    <tr>\n",
       "      <th>5</th>\n",
       "      <td>0</td>\n",
       "      <td>3</td>\n",
       "      <td>Allen, Mr. William Henry</td>\n",
       "      <td>male</td>\n",
       "      <td>35.0</td>\n",
       "      <td>0</td>\n",
       "      <td>0</td>\n",
       "      <td>373450</td>\n",
       "      <td>8.0500</td>\n",
       "      <td>NaN</td>\n",
       "      <td>S</td>\n",
       "    </tr>\n",
       "  </tbody>\n",
       "</table>\n",
       "</div>"
      ],
      "text/plain": [
       "             Survived  Pclass  \\\n",
       "PassengerId                     \n",
       "1                   0       3   \n",
       "2                   1       1   \n",
       "3                   1       3   \n",
       "4                   1       1   \n",
       "5                   0       3   \n",
       "\n",
       "                                                          Name     Sex   Age  \\\n",
       "PassengerId                                                                    \n",
       "1                                      Braund, Mr. Owen Harris    male  22.0   \n",
       "2            Cumings, Mrs. John Bradley (Florence Briggs Th...  female  38.0   \n",
       "3                                       Heikkinen, Miss. Laina  female  26.0   \n",
       "4                 Futrelle, Mrs. Jacques Heath (Lily May Peel)  female  35.0   \n",
       "5                                     Allen, Mr. William Henry    male  35.0   \n",
       "\n",
       "             SibSp  Parch            Ticket     Fare Cabin Embarked  \n",
       "PassengerId                                                          \n",
       "1                1      0         A/5 21171   7.2500   NaN        S  \n",
       "2                1      0          PC 17599  71.2833   C85        C  \n",
       "3                0      0  STON/O2. 3101282   7.9250   NaN        S  \n",
       "4                1      0            113803  53.1000  C123        S  \n",
       "5                0      0            373450   8.0500   NaN        S  "
      ]
     },
     "execution_count": 4,
     "metadata": {},
     "output_type": "execute_result"
    }
   ],
   "source": [
    "df_train.head()"
   ]
  },
  {
   "cell_type": "markdown",
   "id": "bddbb287",
   "metadata": {},
   "source": [
    "### Exploratory Data Analysis"
   ]
  },
  {
   "cell_type": "markdown",
   "id": "c650002a",
   "metadata": {},
   "source": [
    "Basic information regarding the dataset:"
   ]
  },
  {
   "cell_type": "code",
   "execution_count": 5,
   "id": "4d917438",
   "metadata": {},
   "outputs": [
    {
     "name": "stdout",
     "output_type": "stream",
     "text": [
      "<class 'pandas.core.frame.DataFrame'>\n",
      "Int64Index: 891 entries, 1 to 891\n",
      "Data columns (total 11 columns):\n",
      " #   Column    Non-Null Count  Dtype  \n",
      "---  ------    --------------  -----  \n",
      " 0   Survived  891 non-null    int64  \n",
      " 1   Pclass    891 non-null    int64  \n",
      " 2   Name      891 non-null    object \n",
      " 3   Sex       891 non-null    object \n",
      " 4   Age       714 non-null    float64\n",
      " 5   SibSp     891 non-null    int64  \n",
      " 6   Parch     891 non-null    int64  \n",
      " 7   Ticket    891 non-null    object \n",
      " 8   Fare      891 non-null    float64\n",
      " 9   Cabin     204 non-null    object \n",
      " 10  Embarked  889 non-null    object \n",
      "dtypes: float64(2), int64(4), object(5)\n",
      "memory usage: 83.5+ KB\n"
     ]
    }
   ],
   "source": [
    "df_train.info()"
   ]
  },
  {
   "cell_type": "code",
   "execution_count": 6,
   "id": "ba220eaf",
   "metadata": {},
   "outputs": [
    {
     "name": "stdout",
     "output_type": "stream",
     "text": [
      "<class 'pandas.core.frame.DataFrame'>\n",
      "Int64Index: 418 entries, 892 to 1309\n",
      "Data columns (total 10 columns):\n",
      " #   Column    Non-Null Count  Dtype  \n",
      "---  ------    --------------  -----  \n",
      " 0   Pclass    418 non-null    int64  \n",
      " 1   Name      418 non-null    object \n",
      " 2   Sex       418 non-null    object \n",
      " 3   Age       332 non-null    float64\n",
      " 4   SibSp     418 non-null    int64  \n",
      " 5   Parch     418 non-null    int64  \n",
      " 6   Ticket    418 non-null    object \n",
      " 7   Fare      417 non-null    float64\n",
      " 8   Cabin     91 non-null     object \n",
      " 9   Embarked  418 non-null    object \n",
      "dtypes: float64(2), int64(3), object(5)\n",
      "memory usage: 35.9+ KB\n"
     ]
    }
   ],
   "source": [
    "df_test.info()"
   ]
  },
  {
   "cell_type": "code",
   "execution_count": 7,
   "id": "87d3459b",
   "metadata": {},
   "outputs": [
    {
     "data": {
      "text/html": [
       "<div>\n",
       "<style scoped>\n",
       "    .dataframe tbody tr th:only-of-type {\n",
       "        vertical-align: middle;\n",
       "    }\n",
       "\n",
       "    .dataframe tbody tr th {\n",
       "        vertical-align: top;\n",
       "    }\n",
       "\n",
       "    .dataframe thead th {\n",
       "        text-align: right;\n",
       "    }\n",
       "</style>\n",
       "<table border=\"1\" class=\"dataframe\">\n",
       "  <thead>\n",
       "    <tr style=\"text-align: right;\">\n",
       "      <th></th>\n",
       "      <th>Survived</th>\n",
       "      <th>Pclass</th>\n",
       "      <th>Age</th>\n",
       "      <th>SibSp</th>\n",
       "      <th>Parch</th>\n",
       "      <th>Fare</th>\n",
       "    </tr>\n",
       "  </thead>\n",
       "  <tbody>\n",
       "    <tr>\n",
       "      <th>count</th>\n",
       "      <td>891.000000</td>\n",
       "      <td>891.000000</td>\n",
       "      <td>714.000000</td>\n",
       "      <td>891.000000</td>\n",
       "      <td>891.000000</td>\n",
       "      <td>891.000000</td>\n",
       "    </tr>\n",
       "    <tr>\n",
       "      <th>mean</th>\n",
       "      <td>0.383838</td>\n",
       "      <td>2.308642</td>\n",
       "      <td>29.699118</td>\n",
       "      <td>0.523008</td>\n",
       "      <td>0.381594</td>\n",
       "      <td>32.204208</td>\n",
       "    </tr>\n",
       "    <tr>\n",
       "      <th>std</th>\n",
       "      <td>0.486592</td>\n",
       "      <td>0.836071</td>\n",
       "      <td>14.526497</td>\n",
       "      <td>1.102743</td>\n",
       "      <td>0.806057</td>\n",
       "      <td>49.693429</td>\n",
       "    </tr>\n",
       "    <tr>\n",
       "      <th>min</th>\n",
       "      <td>0.000000</td>\n",
       "      <td>1.000000</td>\n",
       "      <td>0.420000</td>\n",
       "      <td>0.000000</td>\n",
       "      <td>0.000000</td>\n",
       "      <td>0.000000</td>\n",
       "    </tr>\n",
       "    <tr>\n",
       "      <th>25%</th>\n",
       "      <td>0.000000</td>\n",
       "      <td>2.000000</td>\n",
       "      <td>20.125000</td>\n",
       "      <td>0.000000</td>\n",
       "      <td>0.000000</td>\n",
       "      <td>7.910400</td>\n",
       "    </tr>\n",
       "    <tr>\n",
       "      <th>50%</th>\n",
       "      <td>0.000000</td>\n",
       "      <td>3.000000</td>\n",
       "      <td>28.000000</td>\n",
       "      <td>0.000000</td>\n",
       "      <td>0.000000</td>\n",
       "      <td>14.454200</td>\n",
       "    </tr>\n",
       "    <tr>\n",
       "      <th>75%</th>\n",
       "      <td>1.000000</td>\n",
       "      <td>3.000000</td>\n",
       "      <td>38.000000</td>\n",
       "      <td>1.000000</td>\n",
       "      <td>0.000000</td>\n",
       "      <td>31.000000</td>\n",
       "    </tr>\n",
       "    <tr>\n",
       "      <th>max</th>\n",
       "      <td>1.000000</td>\n",
       "      <td>3.000000</td>\n",
       "      <td>80.000000</td>\n",
       "      <td>8.000000</td>\n",
       "      <td>6.000000</td>\n",
       "      <td>512.329200</td>\n",
       "    </tr>\n",
       "  </tbody>\n",
       "</table>\n",
       "</div>"
      ],
      "text/plain": [
       "         Survived      Pclass         Age       SibSp       Parch        Fare\n",
       "count  891.000000  891.000000  714.000000  891.000000  891.000000  891.000000\n",
       "mean     0.383838    2.308642   29.699118    0.523008    0.381594   32.204208\n",
       "std      0.486592    0.836071   14.526497    1.102743    0.806057   49.693429\n",
       "min      0.000000    1.000000    0.420000    0.000000    0.000000    0.000000\n",
       "25%      0.000000    2.000000   20.125000    0.000000    0.000000    7.910400\n",
       "50%      0.000000    3.000000   28.000000    0.000000    0.000000   14.454200\n",
       "75%      1.000000    3.000000   38.000000    1.000000    0.000000   31.000000\n",
       "max      1.000000    3.000000   80.000000    8.000000    6.000000  512.329200"
      ]
     },
     "execution_count": 7,
     "metadata": {},
     "output_type": "execute_result"
    }
   ],
   "source": [
    "df_train.describe()"
   ]
  },
  {
   "cell_type": "markdown",
   "id": "6e8f3116",
   "metadata": {},
   "source": [
    "There are missing values in the columns \"Age\", \"Cabin\" and \"Embarked\". We will look at each column separately."
   ]
  },
  {
   "cell_type": "markdown",
   "id": "7218dfac",
   "metadata": {},
   "source": [
    "#### Handling missing values:"
   ]
  },
  {
   "cell_type": "markdown",
   "id": "bab50dbb",
   "metadata": {},
   "source": [
    "#### Age"
   ]
  },
  {
   "cell_type": "markdown",
   "id": "76f97d62",
   "metadata": {},
   "source": [
    "Let us see how age is distributed:"
   ]
  },
  {
   "cell_type": "code",
   "execution_count": 8,
   "id": "b2f5a4dc",
   "metadata": {},
   "outputs": [
    {
     "data": {
      "image/png": "[encoded data removed]",
      "text/plain": [
       "<Figure size 432x288 with 1 Axes>"
      ]
     },
     "metadata": {
      "needs_background": "light"
     },
     "output_type": "display_data"
    }
   ],
   "source": [
    "sns.boxplot(data = df_train[[\"Age\"]])\n",
    "plt.savefig(\"Figures/age_dist.png\")"
   ]
  },
  {
   "cell_type": "markdown",
   "id": "8d17cf47",
   "metadata": {},
   "source": [
    "We see that the data is right-skewed. For a skewwed dataset, it is more appropriate to use median imputation than mean imputation."
   ]
  },
  {
   "cell_type": "code",
   "execution_count": 9,
   "id": "73cb1116",
   "metadata": {},
   "outputs": [
    {
     "data": {
      "text/plain": [
       "SimpleImputer(strategy='median')"
      ]
     },
     "execution_count": 9,
     "metadata": {},
     "output_type": "execute_result"
    }
   ],
   "source": [
    "age_imputer = SimpleImputer(missing_values=np.nan, strategy='median')\n",
    "age_imputer.fit(np.array(df_train['Age']).reshape(-1, 1))"
   ]
  },
  {
   "cell_type": "code",
   "execution_count": 10,
   "id": "e27d127c",
   "metadata": {},
   "outputs": [],
   "source": [
    "imputed_age = age_imputer.transform(np.array(df_train['Age']).reshape(-1, 1))"
   ]
  },
  {
   "cell_type": "code",
   "execution_count": 11,
   "id": "037407dc",
   "metadata": {},
   "outputs": [],
   "source": [
    "df_train['Age'] = imputed_age"
   ]
  },
  {
   "cell_type": "code",
   "execution_count": 12,
   "id": "8654f7fb",
   "metadata": {},
   "outputs": [
    {
     "name": "stdout",
     "output_type": "stream",
     "text": [
      "<class 'pandas.core.frame.DataFrame'>\n",
      "Int64Index: 891 entries, 1 to 891\n",
      "Data columns (total 11 columns):\n",
      " #   Column    Non-Null Count  Dtype  \n",
      "---  ------    --------------  -----  \n",
      " 0   Survived  891 non-null    int64  \n",
      " 1   Pclass    891 non-null    int64  \n",
      " 2   Name      891 non-null    object \n",
      " 3   Sex       891 non-null    object \n",
      " 4   Age       891 non-null    float64\n",
      " 5   SibSp     891 non-null    int64  \n",
      " 6   Parch     891 non-null    int64  \n",
      " 7   Ticket    891 non-null    object \n",
      " 8   Fare      891 non-null    float64\n",
      " 9   Cabin     204 non-null    object \n",
      " 10  Embarked  889 non-null    object \n",
      "dtypes: float64(2), int64(4), object(5)\n",
      "memory usage: 83.5+ KB\n"
     ]
    }
   ],
   "source": [
    "df_train.info()"
   ]
  },
  {
   "cell_type": "markdown",
   "id": "0cb0b4c3",
   "metadata": {},
   "source": [
    "#### Fare (only for test set)"
   ]
  },
  {
   "cell_type": "code",
   "execution_count": 13,
   "id": "21a7f3c5",
   "metadata": {},
   "outputs": [
    {
     "data": {
      "text/plain": [
       "SimpleImputer()"
      ]
     },
     "execution_count": 13,
     "metadata": {},
     "output_type": "execute_result"
    }
   ],
   "source": [
    "fare_imputer = SimpleImputer(missing_values=np.nan, strategy='mean')\n",
    "fare_imputer.fit(np.array(df_train['Fare']).reshape(-1, 1))"
   ]
  },
  {
   "cell_type": "code",
   "execution_count": null,
   "id": "f99d6f38",
   "metadata": {},
   "outputs": [],
   "source": []
  },
  {
   "cell_type": "markdown",
   "id": "f57fa8ef",
   "metadata": {},
   "source": [
    "#### Embarked"
   ]
  },
  {
   "cell_type": "markdown",
   "id": "ff22916e",
   "metadata": {},
   "source": [
    "We only have two missing values. So we simply drop these columns:"
   ]
  },
  {
   "cell_type": "code",
   "execution_count": 14,
   "id": "fd9b48db",
   "metadata": {},
   "outputs": [],
   "source": [
    "df_train = df_train.dropna(subset = ['Embarked'])"
   ]
  },
  {
   "cell_type": "code",
   "execution_count": 15,
   "id": "a2db1252",
   "metadata": {},
   "outputs": [
    {
     "name": "stdout",
     "output_type": "stream",
     "text": [
      "<class 'pandas.core.frame.DataFrame'>\n",
      "Int64Index: 889 entries, 1 to 891\n",
      "Data columns (total 11 columns):\n",
      " #   Column    Non-Null Count  Dtype  \n",
      "---  ------    --------------  -----  \n",
      " 0   Survived  889 non-null    int64  \n",
      " 1   Pclass    889 non-null    int64  \n",
      " 2   Name      889 non-null    object \n",
      " 3   Sex       889 non-null    object \n",
      " 4   Age       889 non-null    float64\n",
      " 5   SibSp     889 non-null    int64  \n",
      " 6   Parch     889 non-null    int64  \n",
      " 7   Ticket    889 non-null    object \n",
      " 8   Fare      889 non-null    float64\n",
      " 9   Cabin     202 non-null    object \n",
      " 10  Embarked  889 non-null    object \n",
      "dtypes: float64(2), int64(4), object(5)\n",
      "memory usage: 83.3+ KB\n"
     ]
    }
   ],
   "source": [
    "df_train.info()"
   ]
  },
  {
   "cell_type": "markdown",
   "id": "86c143f0",
   "metadata": {},
   "source": [
    "#### Cabin"
   ]
  },
  {
   "cell_type": "markdown",
   "id": "934338a7",
   "metadata": {},
   "source": [
    "We first take a look at the values:"
   ]
  },
  {
   "cell_type": "code",
   "execution_count": 16,
   "id": "4b83276a",
   "metadata": {},
   "outputs": [
    {
     "data": {
      "text/plain": [
       "array([nan, 'C85', 'C123', 'E46', 'G6', 'C103', 'D56', 'A6',\n",
       "       'C23 C25 C27', 'B78', 'D33', 'B30', 'C52', 'C83', 'F33', 'F G73',\n",
       "       'E31', 'A5', 'D10 D12', 'D26', 'C110', 'B58 B60', 'E101', 'F E69',\n",
       "       'D47', 'B86', 'F2', 'C2', 'E33', 'B19', 'A7', 'C49', 'F4', 'A32',\n",
       "       'B4', 'B80', 'A31', 'D36', 'D15', 'C93', 'C78', 'D35', 'C87',\n",
       "       'B77', 'E67', 'B94', 'C125', 'C99', 'C118', 'D7', 'A19', 'B49',\n",
       "       'D', 'C22 C26', 'C106', 'C65', 'E36', 'C54', 'B57 B59 B63 B66',\n",
       "       'C7', 'E34', 'C32', 'B18', 'C124', 'C91', 'E40', 'T', 'C128',\n",
       "       'D37', 'B35', 'E50', 'C82', 'B96 B98', 'E10', 'E44', 'A34', 'C104',\n",
       "       'C111', 'C92', 'E38', 'D21', 'E12', 'E63', 'A14', 'B37', 'C30',\n",
       "       'D20', 'B79', 'E25', 'D46', 'B73', 'C95', 'B38', 'B39', 'B22',\n",
       "       'C86', 'C70', 'A16', 'C101', 'C68', 'A10', 'E68', 'B41', 'A20',\n",
       "       'D19', 'D50', 'D9', 'A23', 'B50', 'A26', 'D48', 'E58', 'C126',\n",
       "       'B71', 'B51 B53 B55', 'D49', 'B5', 'B20', 'F G63', 'C62 C64',\n",
       "       'E24', 'C90', 'C45', 'E8', 'B101', 'D45', 'C46', 'D30', 'E121',\n",
       "       'D11', 'E77', 'F38', 'B3', 'D6', 'B82 B84', 'D17', 'A36', 'B102',\n",
       "       'B69', 'E49', 'C47', 'D28', 'E17', 'A24', 'C50', 'B42', 'C148'],\n",
       "      dtype=object)"
      ]
     },
     "execution_count": 16,
     "metadata": {},
     "output_type": "execute_result"
    }
   ],
   "source": [
    "df_train['Cabin'].unique()"
   ]
  },
  {
   "cell_type": "markdown",
   "id": "5ebb0e04",
   "metadata": {},
   "source": [
    "Since each person might have a different cabin, it doesn't make sense to use imputation to fill the missing values. Since this is not available for majority of points in the test set as well, we will not be using this feature for any predictive modelling. However, we will see if this can be used for obtatining any insightful interpretations later."
   ]
  },
  {
   "cell_type": "markdown",
   "id": "1da4d7db",
   "metadata": {},
   "source": [
    "We leave this column as is."
   ]
  },
  {
   "cell_type": "markdown",
   "id": "a9d37ba4",
   "metadata": {},
   "source": [
    "#### Correlation of individual features with survival"
   ]
  },
  {
   "cell_type": "markdown",
   "id": "7648d914",
   "metadata": {},
   "source": [
    "First, we see how balanced the dataset is with respect to the number of individuals who survived/ did not survive:"
   ]
  },
  {
   "cell_type": "code",
   "execution_count": 17,
   "id": "b2a10497",
   "metadata": {},
   "outputs": [
    {
     "data": {
      "image/png": "[encoded data removed]",
      "text/plain": [
       "<Figure size 432x288 with 1 Axes>"
      ]
     },
     "metadata": {
      "needs_background": "light"
     },
     "output_type": "display_data"
    }
   ],
   "source": [
    "sns.countplot(x = 'Survived', data = df_train, palette = 'inferno')\n",
    "plt.ylabel(\"Count\")\n",
    "plt.savefig('Figures/data_balance.png')"
   ]
  },
  {
   "cell_type": "code",
   "execution_count": 18,
   "id": "752df8c2",
   "metadata": {},
   "outputs": [
    {
     "name": "stdout",
     "output_type": "stream",
     "text": [
      "Percentage of people who did not survive =  61.75478065241844\n",
      "Percentage of people who survived =  38.24521934758155\n"
     ]
    }
   ],
   "source": [
    "print(\"Percentage of people who did not survive = \", (1-df_train['Survived'].sum()/len(df_train['Survived']))*100)\n",
    "print(\"Percentage of people who survived = \", (df_train['Survived'].sum()/len(df_train['Survived']))*100)"
   ]
  },
  {
   "cell_type": "markdown",
   "id": "488a848b",
   "metadata": {},
   "source": [
    "There is a slight data imbalance; i.e. we have more data of people who did not survive when compared to people who survived."
   ]
  },
  {
   "cell_type": "markdown",
   "id": "d7700d20",
   "metadata": {},
   "source": [
    "Although this could be due to a bias in data collection, this could also be because there is inherently more people who did not survive as compared to people who survived."
   ]
  },
  {
   "cell_type": "markdown",
   "id": "c5ad662e",
   "metadata": {},
   "source": [
    "Next, we check how each individual feature relates with survival:"
   ]
  },
  {
   "cell_type": "markdown",
   "id": "a6f8f416",
   "metadata": {},
   "source": [
    "Since \"Survived\" is a binary variable, with 0 representing \"did not survive\" and 1 representing \"survived\", mean of a subset of this column represents the fraction of people who survived in that subset, aka the survival rate.\n",
    "\n",
    "This means that we can use barplots to quantify the fraction of people who survived in that subset."
   ]
  },
  {
   "cell_type": "markdown",
   "id": "c9470224",
   "metadata": {},
   "source": [
    "#### Passenger class:"
   ]
  },
  {
   "cell_type": "code",
   "execution_count": 19,
   "id": "8fec22fa",
   "metadata": {},
   "outputs": [
    {
     "data": {
      "image/png": "[encoded data removed]",
      "text/plain": [
       "<Figure size 432x288 with 1 Axes>"
      ]
     },
     "metadata": {
      "needs_background": "light"
     },
     "output_type": "display_data"
    }
   ],
   "source": [
    "sns.barplot(x = 'Pclass', y = 'Survived', data = df_train, palette = 'inferno', ci = None)\n",
    "plt.xlabel(\"Passenger class\")\n",
    "plt.ylabel(\"Survival rate\")\n",
    "plt.savefig('Figures/class_plot.png')"
   ]
  },
  {
   "cell_type": "markdown",
   "id": "353d3491",
   "metadata": {},
   "source": [
    "It seems like a higher fraction of passengers belonging to a higher passenger class survived. This could be <b> due to the fact that higher class tickets were often taken by people who were economically and socially privilaged thereby giving them an advantage over the lesser privilaged sections in times of such crises. </b>\n"
   ]
  },
  {
   "cell_type": "markdown",
   "id": "266f8530",
   "metadata": {},
   "source": [
    "#### Sex:"
   ]
  },
  {
   "cell_type": "code",
   "execution_count": 20,
   "id": "63804e7a",
   "metadata": {},
   "outputs": [
    {
     "data": {
      "image/png": "[encoded data removed]",
      "text/plain": [
       "<Figure size 432x288 with 1 Axes>"
      ]
     },
     "metadata": {
      "needs_background": "light"
     },
     "output_type": "display_data"
    }
   ],
   "source": [
    "sns.barplot(x = 'Sex', y = 'Survived', data = df_train, palette = 'inferno', ci = None)\n",
    "plt.xlabel(\"Gender\")\n",
    "plt.ylabel(\"Survival rate\")\n",
    "plt.savefig('Figures/sex_plot.png')"
   ]
  },
  {
   "cell_type": "markdown",
   "id": "59311947",
   "metadata": {},
   "source": [
    "The survival rate is higher for females as compared to males. This could be because of the social norm to give preference to women and children during times of disasters."
   ]
  },
  {
   "cell_type": "markdown",
   "id": "63275deb",
   "metadata": {},
   "source": [
    "#### Age:"
   ]
  },
  {
   "cell_type": "code",
   "execution_count": 21,
   "id": "fe601d74",
   "metadata": {},
   "outputs": [
    {
     "data": {
      "image/png": "[encoded data removed]",
      "text/plain": [
       "<Figure size 432x288 with 1 Axes>"
      ]
     },
     "metadata": {
      "needs_background": "light"
     },
     "output_type": "display_data"
    }
   ],
   "source": [
    "ax = sns.kdeplot(df_train[\"Age\"][df_train.Survived == 1], palette = 'inferno', shade=True)\n",
    "sns.kdeplot(df_train[\"Age\"][df_train.Survived == 0], palette = 'inferno', shade=True)\n",
    "plt.legend(['Survived', 'Did not survive'])\n",
    "ax.set(xlabel = 'Age')\n",
    "ax.set(ylabel = 'Survival rate' )\n",
    "plt.xlim(-10,85)\n",
    "plt.savefig('Figures/Agevssurvival.png')"
   ]
  },
  {
   "cell_type": "markdown",
   "id": "1442c158",
   "metadata": {},
   "source": [
    "We make two observations:\n",
    "\n",
    "- There was a greater chance for children to survive. Again, this could be because priority was given to women and children during evacuation.\n",
    "- A greater fraction of people in the age group 20-30 did not survive; this could be because they stayed back to aid younger and older individuals during evacuation."
   ]
  },
  {
   "cell_type": "markdown",
   "id": "08ca3695",
   "metadata": {},
   "source": [
    "#### Fare:"
   ]
  },
  {
   "cell_type": "code",
   "execution_count": 22,
   "id": "66ff0011",
   "metadata": {},
   "outputs": [
    {
     "data": {
      "image/png": "[encoded data removed]",
      "text/plain": [
       "<Figure size 432x288 with 1 Axes>"
      ]
     },
     "metadata": {
      "needs_background": "light"
     },
     "output_type": "display_data"
    }
   ],
   "source": [
    "ax = sns.kdeplot(df_train[\"Fare\"][df_train.Survived == 1], palette = 'inferno', shade=True)\n",
    "sns.kdeplot(df_train[\"Fare\"][df_train.Survived == 0], palette = 'inferno', shade=True)\n",
    "plt.legend(['Survived', 'Did not survive'])\n",
    "ax.set(xlabel = 'Fare')\n",
    "ax.set(ylabel = 'Survival rate' )\n",
    "plt.xlim(-20,200)\n",
    "plt.savefig('Figures/farevssurvival.png')"
   ]
  },
  {
   "cell_type": "markdown",
   "id": "b63b145b",
   "metadata": {},
   "source": [
    "It can be seen that, in general, people who pay a higher fare tend to have a higher chance for survival. This could again be associated with higher social and economic status and the associated privilage."
   ]
  },
  {
   "cell_type": "markdown",
   "id": "0f19a45d",
   "metadata": {},
   "source": [
    "#### Embarked:"
   ]
  },
  {
   "cell_type": "code",
   "execution_count": 23,
   "id": "33aa2d22",
   "metadata": {},
   "outputs": [
    {
     "data": {
      "image/png": "[encoded data removed]",
      "text/plain": [
       "<Figure size 432x288 with 1 Axes>"
      ]
     },
     "metadata": {
      "needs_background": "light"
     },
     "output_type": "display_data"
    }
   ],
   "source": [
    "sns.barplot(x = 'Embarked', y = 'Survived', data = df_train, palette = 'inferno', ci = None)\n",
    "plt.ylabel(\"Survival rate\")\n",
    "plt.savefig('Figures/embarked_plot.png')"
   ]
  },
  {
   "cell_type": "code",
   "execution_count": 24,
   "id": "105c4292",
   "metadata": {},
   "outputs": [
    {
     "data": {
      "text/html": [
       "<div>\n",
       "<style scoped>\n",
       "    .dataframe tbody tr th:only-of-type {\n",
       "        vertical-align: middle;\n",
       "    }\n",
       "\n",
       "    .dataframe tbody tr th {\n",
       "        vertical-align: top;\n",
       "    }\n",
       "\n",
       "    .dataframe thead th {\n",
       "        text-align: right;\n",
       "    }\n",
       "</style>\n",
       "<table border=\"1\" class=\"dataframe\">\n",
       "  <thead>\n",
       "    <tr style=\"text-align: right;\">\n",
       "      <th></th>\n",
       "      <th>Fare</th>\n",
       "      <th>Survived</th>\n",
       "    </tr>\n",
       "    <tr>\n",
       "      <th>Embarked</th>\n",
       "      <th></th>\n",
       "      <th></th>\n",
       "    </tr>\n",
       "  </thead>\n",
       "  <tbody>\n",
       "    <tr>\n",
       "      <th>C</th>\n",
       "      <td>59.954144</td>\n",
       "      <td>0.553571</td>\n",
       "    </tr>\n",
       "    <tr>\n",
       "      <th>Q</th>\n",
       "      <td>13.276030</td>\n",
       "      <td>0.389610</td>\n",
       "    </tr>\n",
       "    <tr>\n",
       "      <th>S</th>\n",
       "      <td>27.079812</td>\n",
       "      <td>0.336957</td>\n",
       "    </tr>\n",
       "  </tbody>\n",
       "</table>\n",
       "</div>"
      ],
      "text/plain": [
       "               Fare  Survived\n",
       "Embarked                     \n",
       "C         59.954144  0.553571\n",
       "Q         13.276030  0.389610\n",
       "S         27.079812  0.336957"
      ]
     },
     "execution_count": 24,
     "metadata": {},
     "output_type": "execute_result"
    }
   ],
   "source": [
    "pd.pivot_table(index = 'Embarked',data = df_train,values = ['Fare','Survived'],aggfunc = {'Fare':np.mean,'Survived':np.mean})"
   ]
  },
  {
   "cell_type": "markdown",
   "id": "165ddff1",
   "metadata": {},
   "source": [
    "Higher survival rate for people who boarded from Cherbourg could be attributed to the higher fare paid."
   ]
  },
  {
   "cell_type": "markdown",
   "id": "f2438957",
   "metadata": {},
   "source": [
    "#### Cabin:"
   ]
  },
  {
   "cell_type": "markdown",
   "id": "2ed1413f",
   "metadata": {},
   "source": [
    "We extract only the cabin group and see if this has any impact on the survival rate:"
   ]
  },
  {
   "cell_type": "code",
   "execution_count": 25,
   "id": "d614fd91",
   "metadata": {},
   "outputs": [],
   "source": [
    "def extract_cabin_group(df):\n",
    "    df['Cabin'].fillna(value = 'U',inplace = True)\n",
    "    df['Cabin_group'] = df['Cabin'].apply(lambda x: x[0])\n",
    "    return df "
   ]
  },
  {
   "cell_type": "code",
   "execution_count": 26,
   "id": "e183c0e9",
   "metadata": {},
   "outputs": [],
   "source": [
    "df_train = extract_cabin_group(df_train)"
   ]
  },
  {
   "cell_type": "code",
   "execution_count": 27,
   "id": "fa8db4fc",
   "metadata": {},
   "outputs": [
    {
     "data": {
      "text/plain": [
       "array(['U', 'C', 'E', 'G', 'D', 'A', 'B', 'F', 'T'], dtype=object)"
      ]
     },
     "execution_count": 27,
     "metadata": {},
     "output_type": "execute_result"
    }
   ],
   "source": [
    "df_train['Cabin_group'].unique()"
   ]
  },
  {
   "cell_type": "markdown",
   "id": "66040398",
   "metadata": {},
   "source": [
    "We set the cabins which we dont know to U (for unknown)"
   ]
  },
  {
   "cell_type": "code",
   "execution_count": 28,
   "id": "a276c081",
   "metadata": {},
   "outputs": [
    {
     "data": {
      "image/png": "[encoded data removed]",
      "text/plain": [
       "<Figure size 432x288 with 1 Axes>"
      ]
     },
     "metadata": {
      "needs_background": "light"
     },
     "output_type": "display_data"
    }
   ],
   "source": [
    "sns.barplot(x = 'Cabin_group', y = 'Survived', data = df_train, palette = 'inferno', ci = None)\n",
    "plt.xlabel(\"Cabin group\")\n",
    "plt.ylabel(\"Survival rate\")\n",
    "plt.savefig('Figures/cabin_group_plot.png')"
   ]
  },
  {
   "cell_type": "markdown",
   "id": "86a67b25",
   "metadata": {},
   "source": [
    "Due to the limited data available, it is not possible to make conclusive statements reagrding the impact of cabin group on survival rate. However, if more data is available, it might be possible to correlate the cabin group with survival rate as we intuitively expect certain cabin groups to have more access to lifeboats and such similar factors."
   ]
  },
  {
   "cell_type": "markdown",
   "id": "ee3e2e4a",
   "metadata": {},
   "source": [
    "### Feature Engineering"
   ]
  },
  {
   "cell_type": "markdown",
   "id": "27d2bc9c",
   "metadata": {},
   "source": [
    "For the feature \"Name\", we do not expect name of an individual to directly have any influence on his/her survival chance. However, the honorofics associated with the name might have an impact on suurvival chance. Hence, we extract the honorifics:"
   ]
  },
  {
   "cell_type": "code",
   "execution_count": 29,
   "id": "f3795f4c",
   "metadata": {},
   "outputs": [],
   "source": [
    "def extract_title(df):\n",
    "    title = []\n",
    "    for name in df['Name']:\n",
    "        split_name = name.split(',')\n",
    "        title_el = split_name[1].split('.')[0]\n",
    "        title.append(title_el.strip())\n",
    "    df.loc[:, 'title'] = title \n",
    "    return df  "
   ]
  },
  {
   "cell_type": "code",
   "execution_count": 30,
   "id": "345c3214",
   "metadata": {},
   "outputs": [],
   "source": [
    "df_train = extract_title(df_train)"
   ]
  },
  {
   "cell_type": "code",
   "execution_count": 31,
   "id": "886ffb92",
   "metadata": {},
   "outputs": [
    {
     "data": {
      "text/plain": [
       "array(['Mr', 'Mrs', 'Miss', 'Master', 'Don', 'Rev', 'Dr', 'Mme', 'Ms',\n",
       "       'Major', 'Lady', 'Sir', 'Mlle', 'Col', 'Capt', 'the Countess',\n",
       "       'Jonkheer'], dtype=object)"
      ]
     },
     "execution_count": 31,
     "metadata": {},
     "output_type": "execute_result"
    }
   ],
   "source": [
    "df_train['title'].unique()"
   ]
  },
  {
   "cell_type": "markdown",
   "id": "795ebd80",
   "metadata": {},
   "source": [
    "The categorical features we now consider are \"Pclass\", \"Sex\", \"Embarked\" and \"title\"."
   ]
  },
  {
   "cell_type": "markdown",
   "id": "167c8c57",
   "metadata": {},
   "source": [
    "Of these, \"Pclass\" has a numbering by default; as we have seen before, higher the class of the passenger, higher is the chance of survival. Hence, we maintain the numerical ordering for this feature."
   ]
  },
  {
   "cell_type": "markdown",
   "id": "1aa1ff5f",
   "metadata": {},
   "source": [
    "For the other features, we implement one-hot encoding:"
   ]
  },
  {
   "cell_type": "code",
   "execution_count": 32,
   "id": "3ab48c80",
   "metadata": {},
   "outputs": [],
   "source": [
    "def one_hot_encoding(df, cols):\n",
    "    for el in cols:\n",
    "        df = pd.concat([df, pd.get_dummies(df[el], prefix=el)] , axis = 1)\n",
    "    return df"
   ]
  },
  {
   "cell_type": "code",
   "execution_count": 33,
   "id": "de29da13",
   "metadata": {},
   "outputs": [],
   "source": [
    "class OneHot:\n",
    "    \n",
    "    def __init__(self):\n",
    "        self.columns = ['Sex','Embarked', 'title']\n",
    "        self.encoders = []\n",
    "        \n",
    "    def fit(self,df):\n",
    "        for col in self.columns:\n",
    "            encoder = LabelBinarizer()\n",
    "            encoder.fit(df[col])\n",
    "            self.encoders.append(encoder) \n",
    "        \n",
    "    def transform(self,df):\n",
    "        for i in range(len(self.columns)):\n",
    "            encoder = self.encoders[i]\n",
    "            if i==0:\n",
    "                df = df.join(pd.DataFrame(encoder.transform(df[self.columns[i]]),\n",
    "                                          columns = encoder.classes_[:-1],index = df.index))\n",
    "            else:\n",
    "                df = df.join(pd.DataFrame(encoder.transform(df[self.columns[i]])[:,:-1],\n",
    "                          columns=encoder.classes_[:-1], \n",
    "                          index=df.index),rsuffix = self.columns[i])\n",
    "            df.drop(self.columns[i],axis=1,inplace = True)\n",
    "        return df\n",
    "    "
   ]
  },
  {
   "cell_type": "code",
   "execution_count": 34,
   "id": "166523a2",
   "metadata": {},
   "outputs": [],
   "source": [
    "#df_train = one_hot_encoding(df_train, ['Sex', 'Embarked', 'title'])\n",
    "obj3 = OneHot()\n",
    "obj3.fit(df_train)\n",
    "df_train = obj3.transform(df_train)"
   ]
  },
  {
   "cell_type": "code",
   "execution_count": 35,
   "id": "1a5234a2",
   "metadata": {},
   "outputs": [
    {
     "data": {
      "text/plain": [
       "Index(['Survived', 'Pclass', 'Name', 'Age', 'SibSp', 'Parch', 'Ticket', 'Fare',\n",
       "       'Cabin', 'Cabin_group', 'female', 'C', 'Q', 'Capt', 'Col', 'Don', 'Dr',\n",
       "       'Jonkheer', 'Lady', 'Major', 'Master', 'Miss', 'Mlle', 'Mme', 'Mr',\n",
       "       'Mrs', 'Ms', 'Rev', 'Sir'],\n",
       "      dtype='object')"
      ]
     },
     "execution_count": 35,
     "metadata": {},
     "output_type": "execute_result"
    }
   ],
   "source": [
    "df_train.columns"
   ]
  },
  {
   "cell_type": "code",
   "execution_count": 36,
   "id": "6ccfc63f",
   "metadata": {},
   "outputs": [],
   "source": [
    "df_train.drop(labels = ['Name', 'Ticket', 'Cabin', 'Cabin_group'], axis = 1, inplace = True)"
   ]
  },
  {
   "cell_type": "code",
   "execution_count": 37,
   "id": "62e748f2",
   "metadata": {},
   "outputs": [
    {
     "data": {
      "text/plain": [
       "(889, 25)"
      ]
     },
     "execution_count": 37,
     "metadata": {},
     "output_type": "execute_result"
    }
   ],
   "source": [
    "df_train.shape"
   ]
  },
  {
   "cell_type": "code",
   "execution_count": 38,
   "id": "c0118af7",
   "metadata": {},
   "outputs": [
    {
     "name": "stdout",
     "output_type": "stream",
     "text": [
      "<class 'pandas.core.frame.DataFrame'>\n",
      "Int64Index: 889 entries, 1 to 891\n",
      "Data columns (total 25 columns):\n",
      " #   Column    Non-Null Count  Dtype  \n",
      "---  ------    --------------  -----  \n",
      " 0   Survived  889 non-null    int64  \n",
      " 1   Pclass    889 non-null    int64  \n",
      " 2   Age       889 non-null    float64\n",
      " 3   SibSp     889 non-null    int64  \n",
      " 4   Parch     889 non-null    int64  \n",
      " 5   Fare      889 non-null    float64\n",
      " 6   female    889 non-null    int64  \n",
      " 7   C         889 non-null    int64  \n",
      " 8   Q         889 non-null    int64  \n",
      " 9   Capt      889 non-null    int64  \n",
      " 10  Col       889 non-null    int64  \n",
      " 11  Don       889 non-null    int64  \n",
      " 12  Dr        889 non-null    int64  \n",
      " 13  Jonkheer  889 non-null    int64  \n",
      " 14  Lady      889 non-null    int64  \n",
      " 15  Major     889 non-null    int64  \n",
      " 16  Master    889 non-null    int64  \n",
      " 17  Miss      889 non-null    int64  \n",
      " 18  Mlle      889 non-null    int64  \n",
      " 19  Mme       889 non-null    int64  \n",
      " 20  Mr        889 non-null    int64  \n",
      " 21  Mrs       889 non-null    int64  \n",
      " 22  Ms        889 non-null    int64  \n",
      " 23  Rev       889 non-null    int64  \n",
      " 24  Sir       889 non-null    int64  \n",
      "dtypes: float64(2), int64(23)\n",
      "memory usage: 212.9 KB\n"
     ]
    }
   ],
   "source": [
    "df_train.info()"
   ]
  },
  {
   "cell_type": "markdown",
   "id": "618558f6",
   "metadata": {},
   "source": [
    "### Implementing Logistic Regression"
   ]
  },
  {
   "cell_type": "markdown",
   "id": "2edd55b6",
   "metadata": {},
   "source": [
    "Separating data matrix and labels:"
   ]
  },
  {
   "cell_type": "code",
   "execution_count": 39,
   "id": "ba5b9095",
   "metadata": {},
   "outputs": [],
   "source": [
    "X_train = np.array(df_train.iloc[:, 1:])\n",
    "y_train = np.array(df_train.iloc[:,0])"
   ]
  },
  {
   "cell_type": "markdown",
   "id": "97450654",
   "metadata": {},
   "source": [
    "For logistic regression, we have the regularization strength as a hyper parameter. To obtain the best value of regularization strength, which will be denoted by C from now on, we perfrom cross validation. To perfrom this, we use the LogisticRegressionCV module provided by scikit learn. "
   ]
  },
  {
   "cell_type": "markdown",
   "id": "f3d07cfd",
   "metadata": {},
   "source": [
    "By specifying the value of C as 10 in the parameter list, we pass a grid of 10 C values chosen in a logarithmic scale between 1e-4 and 1e4."
   ]
  },
  {
   "cell_type": "markdown",
   "id": "9da040b8",
   "metadata": {},
   "source": [
    "We also take a list of values for l1 ratio which decides which combination of l1 and l2 should be used as the penalty function:"
   ]
  },
  {
   "cell_type": "code",
   "execution_count": 65,
   "id": "04d101c4",
   "metadata": {},
   "outputs": [],
   "source": [
    "l_ratio = np.linspace(0,1,10)"
   ]
  },
  {
   "cell_type": "code",
   "execution_count": 75,
   "id": "cb323ef8",
   "metadata": {},
   "outputs": [],
   "source": [
    "model = LogisticRegressionCV(Cs = 10, max_iter = 50000)"
   ]
  },
  {
   "cell_type": "code",
   "execution_count": 76,
   "id": "d9960df2",
   "metadata": {},
   "outputs": [
    {
     "data": {
      "text/plain": [
       "LogisticRegressionCV(max_iter=50000)"
      ]
     },
     "execution_count": 76,
     "metadata": {},
     "output_type": "execute_result"
    }
   ],
   "source": [
    "model.fit(X_train, y_train)"
   ]
  },
  {
   "cell_type": "code",
   "execution_count": 77,
   "id": "c405e468",
   "metadata": {},
   "outputs": [
    {
     "data": {
      "text/plain": [
       "array([2.7825594])"
      ]
     },
     "execution_count": 77,
     "metadata": {},
     "output_type": "execute_result"
    }
   ],
   "source": [
    "model.C_"
   ]
  },
  {
   "cell_type": "code",
   "execution_count": 78,
   "id": "b11d66fe",
   "metadata": {},
   "outputs": [],
   "source": [
    "y_train_pred = model.predict(X_train)"
   ]
  },
  {
   "cell_type": "code",
   "execution_count": 79,
   "id": "8204ebe6",
   "metadata": {},
   "outputs": [
    {
     "data": {
      "text/plain": [
       "0.8312710911136107"
      ]
     },
     "execution_count": 79,
     "metadata": {},
     "output_type": "execute_result"
    }
   ],
   "source": [
    "accuracy_score(y_train_pred,y_train)"
   ]
  },
  {
   "cell_type": "code",
   "execution_count": null,
   "id": "f69520b2",
   "metadata": {},
   "outputs": [],
   "source": []
  },
  {
   "cell_type": "code",
   "execution_count": null,
   "id": "48750ae0",
   "metadata": {},
   "outputs": [],
   "source": []
  },
  {
   "cell_type": "code",
   "execution_count": null,
   "id": "b118de5a",
   "metadata": {},
   "outputs": [],
   "source": []
  },
  {
   "cell_type": "markdown",
   "id": "d33a3e69",
   "metadata": {},
   "source": [
    "### Evaluating on the test set"
   ]
  },
  {
   "cell_type": "markdown",
   "id": "1394e836",
   "metadata": {},
   "source": [
    "#### Preprocessing the test set"
   ]
  },
  {
   "cell_type": "code",
   "execution_count": 45,
   "id": "7c231080",
   "metadata": {},
   "outputs": [],
   "source": [
    "imputed_age = age_imputer.transform(np.array(df_test['Age']).reshape(-1, 1))\n",
    "df_test['Age'] = imputed_age\n",
    "\n",
    "imputed_fare = fare_imputer.transform(np.array(df_test['Fare']).reshape(-1, 1))\n",
    "df_test['Fare'] = imputed_fare\n",
    "\n",
    "df_test = extract_title(df_test)\n",
    "\n",
    "df_test = obj3.transform(df_test)\n",
    "\n",
    "df_test.drop(labels = ['Name', 'Ticket', 'Cabin'], axis = 1, inplace = True)"
   ]
  },
  {
   "cell_type": "code",
   "execution_count": 46,
   "id": "f9046e38",
   "metadata": {},
   "outputs": [
    {
     "name": "stdout",
     "output_type": "stream",
     "text": [
      "<class 'pandas.core.frame.DataFrame'>\n",
      "Int64Index: 418 entries, 892 to 1309\n",
      "Data columns (total 24 columns):\n",
      " #   Column    Non-Null Count  Dtype  \n",
      "---  ------    --------------  -----  \n",
      " 0   Pclass    418 non-null    int64  \n",
      " 1   Age       418 non-null    float64\n",
      " 2   SibSp     418 non-null    int64  \n",
      " 3   Parch     418 non-null    int64  \n",
      " 4   Fare      418 non-null    float64\n",
      " 5   female    418 non-null    int64  \n",
      " 6   C         418 non-null    int64  \n",
      " 7   Q         418 non-null    int64  \n",
      " 8   Capt      418 non-null    int64  \n",
      " 9   Col       418 non-null    int64  \n",
      " 10  Don       418 non-null    int64  \n",
      " 11  Dr        418 non-null    int64  \n",
      " 12  Jonkheer  418 non-null    int64  \n",
      " 13  Lady      418 non-null    int64  \n",
      " 14  Major     418 non-null    int64  \n",
      " 15  Master    418 non-null    int64  \n",
      " 16  Miss      418 non-null    int64  \n",
      " 17  Mlle      418 non-null    int64  \n",
      " 18  Mme       418 non-null    int64  \n",
      " 19  Mr        418 non-null    int64  \n",
      " 20  Mrs       418 non-null    int64  \n",
      " 21  Ms        418 non-null    int64  \n",
      " 22  Rev       418 non-null    int64  \n",
      " 23  Sir       418 non-null    int64  \n",
      "dtypes: float64(2), int64(22)\n",
      "memory usage: 97.8 KB\n"
     ]
    }
   ],
   "source": [
    "df_test.info()"
   ]
  },
  {
   "cell_type": "code",
   "execution_count": 47,
   "id": "0fdd3cb4",
   "metadata": {},
   "outputs": [],
   "source": [
    "X_test = np.array(df_test)"
   ]
  },
  {
   "cell_type": "code",
   "execution_count": 49,
   "id": "73eea27b",
   "metadata": {},
   "outputs": [],
   "source": [
    "y_test_pred = model.predict(X_test)"
   ]
  },
  {
   "cell_type": "code",
   "execution_count": 50,
   "id": "efc836df",
   "metadata": {},
   "outputs": [],
   "source": [
    "pid = np.arange(892, 1310)"
   ]
  },
  {
   "cell_type": "code",
   "execution_count": 51,
   "id": "925473d2",
   "metadata": {},
   "outputs": [
    {
     "data": {
      "text/plain": [
       "array([ 892,  893,  894,  895,  896,  897,  898,  899,  900,  901,  902,\n",
       "        903,  904,  905,  906,  907,  908,  909,  910,  911,  912,  913,\n",
       "        914,  915,  916,  917,  918,  919,  920,  921,  922,  923,  924,\n",
       "        925,  926,  927,  928,  929,  930,  931,  932,  933,  934,  935,\n",
       "        936,  937,  938,  939,  940,  941,  942,  943,  944,  945,  946,\n",
       "        947,  948,  949,  950,  951,  952,  953,  954,  955,  956,  957,\n",
       "        958,  959,  960,  961,  962,  963,  964,  965,  966,  967,  968,\n",
       "        969,  970,  971,  972,  973,  974,  975,  976,  977,  978,  979,\n",
       "        980,  981,  982,  983,  984,  985,  986,  987,  988,  989,  990,\n",
       "        991,  992,  993,  994,  995,  996,  997,  998,  999, 1000, 1001,\n",
       "       1002, 1003, 1004, 1005, 1006, 1007, 1008, 1009, 1010, 1011, 1012,\n",
       "       1013, 1014, 1015, 1016, 1017, 1018, 1019, 1020, 1021, 1022, 1023,\n",
       "       1024, 1025, 1026, 1027, 1028, 1029, 1030, 1031, 1032, 1033, 1034,\n",
       "       1035, 1036, 1037, 1038, 1039, 1040, 1041, 1042, 1043, 1044, 1045,\n",
       "       1046, 1047, 1048, 1049, 1050, 1051, 1052, 1053, 1054, 1055, 1056,\n",
       "       1057, 1058, 1059, 1060, 1061, 1062, 1063, 1064, 1065, 1066, 1067,\n",
       "       1068, 1069, 1070, 1071, 1072, 1073, 1074, 1075, 1076, 1077, 1078,\n",
       "       1079, 1080, 1081, 1082, 1083, 1084, 1085, 1086, 1087, 1088, 1089,\n",
       "       1090, 1091, 1092, 1093, 1094, 1095, 1096, 1097, 1098, 1099, 1100,\n",
       "       1101, 1102, 1103, 1104, 1105, 1106, 1107, 1108, 1109, 1110, 1111,\n",
       "       1112, 1113, 1114, 1115, 1116, 1117, 1118, 1119, 1120, 1121, 1122,\n",
       "       1123, 1124, 1125, 1126, 1127, 1128, 1129, 1130, 1131, 1132, 1133,\n",
       "       1134, 1135, 1136, 1137, 1138, 1139, 1140, 1141, 1142, 1143, 1144,\n",
       "       1145, 1146, 1147, 1148, 1149, 1150, 1151, 1152, 1153, 1154, 1155,\n",
       "       1156, 1157, 1158, 1159, 1160, 1161, 1162, 1163, 1164, 1165, 1166,\n",
       "       1167, 1168, 1169, 1170, 1171, 1172, 1173, 1174, 1175, 1176, 1177,\n",
       "       1178, 1179, 1180, 1181, 1182, 1183, 1184, 1185, 1186, 1187, 1188,\n",
       "       1189, 1190, 1191, 1192, 1193, 1194, 1195, 1196, 1197, 1198, 1199,\n",
       "       1200, 1201, 1202, 1203, 1204, 1205, 1206, 1207, 1208, 1209, 1210,\n",
       "       1211, 1212, 1213, 1214, 1215, 1216, 1217, 1218, 1219, 1220, 1221,\n",
       "       1222, 1223, 1224, 1225, 1226, 1227, 1228, 1229, 1230, 1231, 1232,\n",
       "       1233, 1234, 1235, 1236, 1237, 1238, 1239, 1240, 1241, 1242, 1243,\n",
       "       1244, 1245, 1246, 1247, 1248, 1249, 1250, 1251, 1252, 1253, 1254,\n",
       "       1255, 1256, 1257, 1258, 1259, 1260, 1261, 1262, 1263, 1264, 1265,\n",
       "       1266, 1267, 1268, 1269, 1270, 1271, 1272, 1273, 1274, 1275, 1276,\n",
       "       1277, 1278, 1279, 1280, 1281, 1282, 1283, 1284, 1285, 1286, 1287,\n",
       "       1288, 1289, 1290, 1291, 1292, 1293, 1294, 1295, 1296, 1297, 1298,\n",
       "       1299, 1300, 1301, 1302, 1303, 1304, 1305, 1306, 1307, 1308, 1309])"
      ]
     },
     "execution_count": 51,
     "metadata": {},
     "output_type": "execute_result"
    }
   ],
   "source": [
    "pid"
   ]
  },
  {
   "cell_type": "code",
   "execution_count": 52,
   "id": "0ff1884e",
   "metadata": {},
   "outputs": [],
   "source": [
    "out = pd.DataFrame(data = {'PassengerId':pid, 'Survived':y_test_pred})"
   ]
  },
  {
   "cell_type": "code",
   "execution_count": 53,
   "id": "768424e9",
   "metadata": {},
   "outputs": [
    {
     "data": {
      "text/html": [
       "<div>\n",
       "<style scoped>\n",
       "    .dataframe tbody tr th:only-of-type {\n",
       "        vertical-align: middle;\n",
       "    }\n",
       "\n",
       "    .dataframe tbody tr th {\n",
       "        vertical-align: top;\n",
       "    }\n",
       "\n",
       "    .dataframe thead th {\n",
       "        text-align: right;\n",
       "    }\n",
       "</style>\n",
       "<table border=\"1\" class=\"dataframe\">\n",
       "  <thead>\n",
       "    <tr style=\"text-align: right;\">\n",
       "      <th></th>\n",
       "      <th>PassengerId</th>\n",
       "      <th>Survived</th>\n",
       "    </tr>\n",
       "  </thead>\n",
       "  <tbody>\n",
       "    <tr>\n",
       "      <th>0</th>\n",
       "      <td>892</td>\n",
       "      <td>0</td>\n",
       "    </tr>\n",
       "    <tr>\n",
       "      <th>1</th>\n",
       "      <td>893</td>\n",
       "      <td>1</td>\n",
       "    </tr>\n",
       "    <tr>\n",
       "      <th>2</th>\n",
       "      <td>894</td>\n",
       "      <td>0</td>\n",
       "    </tr>\n",
       "    <tr>\n",
       "      <th>3</th>\n",
       "      <td>895</td>\n",
       "      <td>0</td>\n",
       "    </tr>\n",
       "    <tr>\n",
       "      <th>4</th>\n",
       "      <td>896</td>\n",
       "      <td>1</td>\n",
       "    </tr>\n",
       "    <tr>\n",
       "      <th>...</th>\n",
       "      <td>...</td>\n",
       "      <td>...</td>\n",
       "    </tr>\n",
       "    <tr>\n",
       "      <th>413</th>\n",
       "      <td>1305</td>\n",
       "      <td>0</td>\n",
       "    </tr>\n",
       "    <tr>\n",
       "      <th>414</th>\n",
       "      <td>1306</td>\n",
       "      <td>1</td>\n",
       "    </tr>\n",
       "    <tr>\n",
       "      <th>415</th>\n",
       "      <td>1307</td>\n",
       "      <td>0</td>\n",
       "    </tr>\n",
       "    <tr>\n",
       "      <th>416</th>\n",
       "      <td>1308</td>\n",
       "      <td>0</td>\n",
       "    </tr>\n",
       "    <tr>\n",
       "      <th>417</th>\n",
       "      <td>1309</td>\n",
       "      <td>1</td>\n",
       "    </tr>\n",
       "  </tbody>\n",
       "</table>\n",
       "<p>418 rows × 2 columns</p>\n",
       "</div>"
      ],
      "text/plain": [
       "     PassengerId  Survived\n",
       "0            892         0\n",
       "1            893         1\n",
       "2            894         0\n",
       "3            895         0\n",
       "4            896         1\n",
       "..           ...       ...\n",
       "413         1305         0\n",
       "414         1306         1\n",
       "415         1307         0\n",
       "416         1308         0\n",
       "417         1309         1\n",
       "\n",
       "[418 rows x 2 columns]"
      ]
     },
     "execution_count": 53,
     "metadata": {},
     "output_type": "execute_result"
    }
   ],
   "source": [
    "out"
   ]
  },
  {
   "cell_type": "code",
   "execution_count": 56,
   "id": "da4288a5",
   "metadata": {},
   "outputs": [],
   "source": [
    "out.to_csv(\"test_predictions.csv\", index = False)"
   ]
  },
  {
   "cell_type": "code",
   "execution_count": null,
   "id": "9cf13ff5",
   "metadata": {},
   "outputs": [],
   "source": []
  },
  {
   "cell_type": "code",
   "execution_count": null,
   "id": "338f3850",
   "metadata": {},
   "outputs": [],
   "source": []
  },
  {
   "cell_type": "markdown",
   "id": "84c038da",
   "metadata": {},
   "source": [
    "### Evaluating the model"
   ]
  },
  {
   "cell_type": "code",
   "execution_count": 85,
   "id": "6210ccf5",
   "metadata": {},
   "outputs": [
    {
     "data": {
      "image/png": "[encoded data removed]",
      "text/plain": [
       "<Figure size 432x288 with 2 Axes>"
      ]
     },
     "metadata": {
      "needs_background": "light"
     },
     "output_type": "display_data"
    }
   ],
   "source": [
    "cm = confusion_matrix(y_train,y_train_pred)\n",
    "\n",
    "ax = plt.subplot()\n",
    "\n",
    "sns.heatmap(cm, square = True, annot = True, cbar =True, fmt='g',\n",
    "           xticklabels=['Died','Survived'], yticklabels=['Died','Survived'], ax=ax)\n",
    "\n",
    "ax.set_xlabel('Predicted labels')\n",
    "ax.set_ylabel('True labels')\n",
    "plt.savefig('Figures/ConfusionMatrix.png')\n",
    "plt.show()"
   ]
  },
  {
   "cell_type": "code",
   "execution_count": 81,
   "id": "137b08cc",
   "metadata": {},
   "outputs": [
    {
     "name": "stdout",
     "output_type": "stream",
     "text": [
      "Accuracy : 0.8312710911136107\n",
      "Precision : 0.7914110429447853\n",
      "Recall : 0.7588235294117647\n",
      "F1 Score : 0.7747747747747749\n"
     ]
    }
   ],
   "source": [
    "print(\"Accuracy :\", accuracy_score(y_train,y_train_pred))\n",
    "print(\"Precision :\", precision_score(y_train,y_train_pred))\n",
    "print(\"Recall :\", recall_score(y_train,y_train_pred))\n",
    "print(\"F1 Score :\", f1_score(y_train,y_train_pred))"
   ]
  },
  {
   "cell_type": "code",
   "execution_count": 82,
   "id": "8bd0f6d3",
   "metadata": {},
   "outputs": [],
   "source": [
    "y_scores = model.predict_proba(X_train)\n",
    "y_scores = y_scores[:,1]\n",
    "fpr, tpr, thresholds = roc_curve(y_train, y_scores)"
   ]
  },
  {
   "cell_type": "code",
   "execution_count": 87,
   "id": "b0a4bbd6",
   "metadata": {},
   "outputs": [
    {
     "data": {
      "image/png": "[encoded data removed]",
      "text/plain": [
       "<Figure size 432x288 with 1 Axes>"
      ]
     },
     "metadata": {
      "needs_background": "light"
     },
     "output_type": "display_data"
    }
   ],
   "source": [
    "plt.plot(fpr, tpr, label = \"Logistic regression classifier\")\n",
    "plt.plot([0, 1], [0, 1], label = \"Random classifier\")\n",
    "plt.axis([0, 1, 0, 1])\n",
    "plt.xlabel('False Positive Rate')\n",
    "plt.ylabel('True Positive Rate')\n",
    "plt.legend()\n",
    "plt.savefig('Figures/Rocauccurve.png')"
   ]
  },
  {
   "cell_type": "code",
   "execution_count": 84,
   "id": "a2a2a798",
   "metadata": {},
   "outputs": [
    {
     "data": {
      "text/plain": [
       "0.8764304082288654"
      ]
     },
     "execution_count": 84,
     "metadata": {},
     "output_type": "execute_result"
    }
   ],
   "source": [
    "roc_auc_score(y_train, y_scores)"
   ]
  },
  {
   "cell_type": "code",
   "execution_count": null,
   "id": "b5b2e43c",
   "metadata": {},
   "outputs": [],
   "source": []
  }
 ],
 "metadata": {
  "kernelspec": {
   "display_name": "Python 3 (ipykernel)",
   "language": "python",
   "name": "python3"
  },
  "language_info": {
   "codemirror_mode": {
    "name": "ipython",
    "version": 3
   },
   "file_extension": ".py",
   "mimetype": "text/x-python",
   "name": "python",
   "nbconvert_exporter": "python",
   "pygments_lexer": "ipython3",
   "version": "3.8.10"
  }
 },
 "nbformat": 4,
 "nbformat_minor": 5
}
